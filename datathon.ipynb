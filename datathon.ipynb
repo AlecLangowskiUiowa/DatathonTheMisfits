{
 "cells": [
  {
   "cell_type": "code",
   "execution_count": 15,
   "id": "1288f97c-ce91-4a70-921f-1f60ef843fbb",
   "metadata": {},
   "outputs": [
    {
     "name": "stdout",
     "output_type": "stream",
     "text": [
      "['no immunity' 'previously infected' 'currently infected']\n",
      "      SEQN  LBXHBC  LBDHBG  LBXHBS       status\n",
      "1  93706.0     2.0     NaN     2.0  no immunity\n",
      "2  93707.0     2.0     NaN     2.0  no immunity\n",
      "4  93709.0     2.0     NaN     2.0  no immunity\n",
      "5  93711.0     2.0     NaN     2.0  no immunity\n",
      "6  93712.0     2.0     NaN     2.0  no immunity\n"
     ]
    }
   ],
   "source": [
    "!python \"datathon.py\""
   ]
  },
  {
   "cell_type": "code",
   "execution_count": null,
   "id": "2e4b25b9-7769-4fe1-b794-a843f03a6243",
   "metadata": {},
   "outputs": [],
   "source": []
  }
 ],
 "metadata": {
  "kernelspec": {
   "display_name": "Python 3 (ipykernel)",
   "language": "python",
   "name": "python3"
  },
  "language_info": {
   "codemirror_mode": {
    "name": "ipython",
    "version": 3
   },
   "file_extension": ".py",
   "mimetype": "text/x-python",
   "name": "python",
   "nbconvert_exporter": "python",
   "pygments_lexer": "ipython3",
   "version": "3.9.7"
  }
 },
 "nbformat": 4,
 "nbformat_minor": 5
}
